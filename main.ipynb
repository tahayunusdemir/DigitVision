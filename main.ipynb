{
 "cells": [
  {
   "cell_type": "code",
   "execution_count": 38,
   "metadata": {
    "execution": {
     "iopub.execute_input": "2024-11-30T18:15:19.078318Z",
     "iopub.status.busy": "2024-11-30T18:15:19.077924Z",
     "iopub.status.idle": "2024-11-30T18:15:19.083853Z",
     "shell.execute_reply": "2024-11-30T18:15:19.082912Z",
     "shell.execute_reply.started": "2024-11-30T18:15:19.078284Z"
    },
    "trusted": true
   },
   "outputs": [],
   "source": [
    "import torch\n",
    "import torch.nn as nn\n",
    "import torch.optim as optim\n",
    "from torch.utils.data import DataLoader, Dataset\n",
    "import torchvision.transforms as transforms\n",
    "from sklearn.metrics import confusion_matrix, classification_report\n",
    "import pandas as pd\n",
    "import numpy as np\n",
    "import matplotlib.pyplot as plt\n",
    "import seaborn as sns"
   ]
  },
  {
   "cell_type": "code",
   "execution_count": 39,
   "metadata": {
    "execution": {
     "iopub.execute_input": "2024-11-30T18:15:19.090321Z",
     "iopub.status.busy": "2024-11-30T18:15:19.089970Z",
     "iopub.status.idle": "2024-11-30T18:15:19.097056Z",
     "shell.execute_reply": "2024-11-30T18:15:19.095767Z",
     "shell.execute_reply.started": "2024-11-30T18:15:19.090289Z"
    },
    "trusted": true
   },
   "outputs": [
    {
     "name": "stdout",
     "output_type": "stream",
     "text": [
      "Cihaz: cpu\n"
     ]
    }
   ],
   "source": [
    "# GPU veya CPU seçimi\n",
    "device = torch.device(\"cuda\" if torch.cuda.is_available() else \"cpu\")\n",
    "print(f\"Cihaz: {device}\")"
   ]
  },
  {
   "cell_type": "code",
   "execution_count": 40,
   "metadata": {
    "execution": {
     "iopub.execute_input": "2024-11-30T18:15:19.099843Z",
     "iopub.status.busy": "2024-11-30T18:15:19.099178Z",
     "iopub.status.idle": "2024-11-30T18:15:19.108597Z",
     "shell.execute_reply": "2024-11-30T18:15:19.107516Z",
     "shell.execute_reply.started": "2024-11-30T18:15:19.099797Z"
    },
    "trusted": true
   },
   "outputs": [],
   "source": [
    "# Özel Dataset Sınıfı\n",
    "class CustomMNISTDataset(Dataset):\n",
    "    def __init__(self, csv_file, transform=None, is_test=False):\n",
    "        self.data_frame = pd.read_csv(csv_file)\n",
    "        self.transform = transform\n",
    "        self.is_test = is_test\n",
    "\n",
    "    def __len__(self):\n",
    "        return len(self.data_frame)\n",
    "\n",
    "    def __getitem__(self, index):\n",
    "        item = self.data_frame.iloc[index]\n",
    "        if self.is_test:\n",
    "            image = item.values.reshape(28, 28).astype(np.uint8)\n",
    "            label = -1  # Test seti için etiket bulunmuyor\n",
    "        else:\n",
    "            image = item[1:].values.reshape(28, 28).astype(np.uint8)\n",
    "            label = item.iloc[0]\n",
    "        \n",
    "        # Görüntü formatını dönüştür\n",
    "        image = transforms.ToPILImage()(image)\n",
    "        if self.transform:\n",
    "            image = self.transform(image)\n",
    "        return (image, label)"
   ]
  },
  {
   "cell_type": "code",
   "execution_count": 41,
   "metadata": {
    "execution": {
     "iopub.execute_input": "2024-11-30T18:15:19.110148Z",
     "iopub.status.busy": "2024-11-30T18:15:19.109844Z",
     "iopub.status.idle": "2024-11-30T18:15:19.123513Z",
     "shell.execute_reply": "2024-11-30T18:15:19.122471Z",
     "shell.execute_reply.started": "2024-11-30T18:15:19.110118Z"
    },
    "trusted": true
   },
   "outputs": [],
   "source": [
    "# Veri augmentasyonu ve normalizasyon\n",
    "transform = transforms.Compose([\n",
    "    transforms.RandomRotation(20),  # Görüntüleri döndürme\n",
    "    transforms.RandomAffine(0, shear=10, scale=(0.8, 1.2)),  # Perspektif bozulması\n",
    "    transforms.ToTensor(),\n",
    "    transforms.Normalize((0.5,), (0.5,))  # Piksel değerlerini normalize et\n",
    "])"
   ]
  },
  {
   "cell_type": "code",
   "execution_count": 42,
   "metadata": {
    "execution": {
     "iopub.execute_input": "2024-11-30T18:15:19.125433Z",
     "iopub.status.busy": "2024-11-30T18:15:19.125101Z",
     "iopub.status.idle": "2024-11-30T18:15:22.833664Z",
     "shell.execute_reply": "2024-11-30T18:15:22.832608Z",
     "shell.execute_reply.started": "2024-11-30T18:15:19.125403Z"
    },
    "trusted": true
   },
   "outputs": [],
   "source": [
    "# Eğitim ve test veri setleri\n",
    "train_dataset = CustomMNISTDataset(csv_file='/kaggle/input/digit-recognizer/train.csv', transform=transform)\n",
    "test_dataset = CustomMNISTDataset(csv_file='/kaggle/input/digit-recognizer/test.csv', transform=transform, is_test=True)"
   ]
  },
  {
   "cell_type": "code",
   "execution_count": 43,
   "metadata": {
    "execution": {
     "iopub.execute_input": "2024-11-30T18:15:22.836574Z",
     "iopub.status.busy": "2024-11-30T18:15:22.836232Z",
     "iopub.status.idle": "2024-11-30T18:15:22.844587Z",
     "shell.execute_reply": "2024-11-30T18:15:22.843623Z",
     "shell.execute_reply.started": "2024-11-30T18:15:22.836543Z"
    },
    "trusted": true
   },
   "outputs": [
    {
     "name": "stdout",
     "output_type": "stream",
     "text": [
      "Veri Seti Boyutları -> Eğitim: 42000, Test: 28000\n"
     ]
    }
   ],
   "source": [
    "# DataLoader\n",
    "batch_size = 64\n",
    "train_loader = DataLoader(train_dataset, batch_size=batch_size, shuffle=True)\n",
    "test_loader = DataLoader(test_dataset, batch_size=batch_size, shuffle=False)\n",
    "\n",
    "print(f\"Veri Seti Boyutları -> Eğitim: {len(train_dataset)}, Test: {len(test_dataset)}\")"
   ]
  },
  {
   "cell_type": "code",
   "execution_count": 44,
   "metadata": {
    "execution": {
     "iopub.execute_input": "2024-11-30T18:15:22.846115Z",
     "iopub.status.busy": "2024-11-30T18:15:22.845811Z",
     "iopub.status.idle": "2024-11-30T18:15:22.860435Z",
     "shell.execute_reply": "2024-11-30T18:15:22.859521Z",
     "shell.execute_reply.started": "2024-11-30T18:15:22.846086Z"
    },
    "trusted": true
   },
   "outputs": [],
   "source": [
    "# CNN Modeli\n",
    "class AdvancedCNN(nn.Module):\n",
    "    def __init__(self):\n",
    "        super(AdvancedCNN, self).__init__()\n",
    "        self.conv1 = nn.Conv2d(1, 32, kernel_size=3, padding=1)\n",
    "        self.bn1 = nn.BatchNorm2d(32)\n",
    "        self.conv2 = nn.Conv2d(32, 64, kernel_size=3, padding=1)\n",
    "        self.bn2 = nn.BatchNorm2d(64)\n",
    "        self.conv3 = nn.Conv2d(64, 128, kernel_size=3, padding=1)\n",
    "        self.bn3 = nn.BatchNorm2d(128)\n",
    "        self.pool = nn.MaxPool2d(2, 2)\n",
    "        self.fc1 = nn.Linear(128 * 3 * 3, 256)\n",
    "        self.fc2 = nn.Linear(256, 10)\n",
    "        self.dropout = nn.Dropout(0.4)\n",
    "\n",
    "    def forward(self, x):\n",
    "        x = self.pool(torch.relu(self.bn1(self.conv1(x))))\n",
    "        x = self.pool(torch.relu(self.bn2(self.conv2(x))))\n",
    "        x = self.pool(torch.relu(self.bn3(self.conv3(x))))\n",
    "        x = x.view(-1, 128 * 3 * 3)\n",
    "        x = torch.relu(self.fc1(x))\n",
    "        x = self.dropout(x)\n",
    "        x = self.fc2(x)\n",
    "        return x"
   ]
  },
  {
   "cell_type": "code",
   "execution_count": 45,
   "metadata": {
    "execution": {
     "iopub.execute_input": "2024-11-30T18:15:22.862550Z",
     "iopub.status.busy": "2024-11-30T18:15:22.861813Z",
     "iopub.status.idle": "2024-11-30T18:15:22.879267Z",
     "shell.execute_reply": "2024-11-30T18:15:22.878356Z",
     "shell.execute_reply.started": "2024-11-30T18:15:22.862502Z"
    },
    "trusted": true
   },
   "outputs": [],
   "source": [
    "# Model, kayıp fonksiyonu ve optimizasyon\n",
    "model = AdvancedCNN().to(device)\n",
    "criterion = nn.CrossEntropyLoss()\n",
    "optimizer = optim.Adam(model.parameters(), lr=0.001)"
   ]
  },
  {
   "cell_type": "code",
   "execution_count": 46,
   "metadata": {
    "execution": {
     "iopub.execute_input": "2024-11-30T18:15:22.881424Z",
     "iopub.status.busy": "2024-11-30T18:15:22.880996Z",
     "iopub.status.idle": "2024-11-30T18:36:01.394655Z",
     "shell.execute_reply": "2024-11-30T18:36:01.393349Z",
     "shell.execute_reply.started": "2024-11-30T18:15:22.881379Z"
    },
    "trusted": true
   },
   "outputs": [
    {
     "name": "stdout",
     "output_type": "stream",
     "text": [
      "Epoch 1/20, Ortalama Kayıp: 0.2588\n",
      "Epoch 2/20, Ortalama Kayıp: 0.1089\n",
      "Epoch 3/20, Ortalama Kayıp: 0.0896\n",
      "Epoch 4/20, Ortalama Kayıp: 0.0820\n",
      "Epoch 5/20, Ortalama Kayıp: 0.0702\n",
      "Epoch 6/20, Ortalama Kayıp: 0.0611\n",
      "Epoch 7/20, Ortalama Kayıp: 0.0605\n",
      "Epoch 8/20, Ortalama Kayıp: 0.0561\n",
      "Epoch 9/20, Ortalama Kayıp: 0.0535\n",
      "Epoch 10/20, Ortalama Kayıp: 0.0535\n",
      "Epoch 11/20, Ortalama Kayıp: 0.0504\n",
      "Epoch 12/20, Ortalama Kayıp: 0.0462\n",
      "Epoch 13/20, Ortalama Kayıp: 0.0456\n",
      "Epoch 14/20, Ortalama Kayıp: 0.0423\n",
      "Epoch 15/20, Ortalama Kayıp: 0.0424\n",
      "Epoch 16/20, Ortalama Kayıp: 0.0405\n",
      "Epoch 17/20, Ortalama Kayıp: 0.0415\n",
      "Epoch 18/20, Ortalama Kayıp: 0.0388\n",
      "Epoch 19/20, Ortalama Kayıp: 0.0383\n",
      "Epoch 20/20, Ortalama Kayıp: 0.0366\n"
     ]
    }
   ],
   "source": [
    "# Eğitim Döngüsü\n",
    "num_epochs = 20\n",
    "training_losses = []\n",
    "for epoch in range(num_epochs):\n",
    "    model.train()\n",
    "    running_loss = 0.0\n",
    "    for i, (inputs, labels) in enumerate(train_loader):\n",
    "        inputs, labels = inputs.to(device), labels.to(device)\n",
    "        optimizer.zero_grad()\n",
    "        outputs = model(inputs)\n",
    "        loss = criterion(outputs, labels)\n",
    "        loss.backward()\n",
    "        optimizer.step()\n",
    "        running_loss += loss.item()\n",
    "    avg_loss = running_loss / len(train_loader)\n",
    "    training_losses.append(avg_loss)\n",
    "    print(f\"Epoch {epoch+1}/{num_epochs}, Ortalama Kayıp: {avg_loss:.4f}\")"
   ]
  },
  {
   "cell_type": "code",
   "execution_count": 47,
   "metadata": {
    "execution": {
     "iopub.execute_input": "2024-11-30T18:36:01.396373Z",
     "iopub.status.busy": "2024-11-30T18:36:01.396053Z",
     "iopub.status.idle": "2024-11-30T18:36:01.584202Z",
     "shell.execute_reply": "2024-11-30T18:36:01.583131Z",
     "shell.execute_reply.started": "2024-11-30T18:36:01.396343Z"
    },
    "trusted": true
   },
   "outputs": [
    {
     "data": {
      "image/png": "[encoded data removed]",
      "text/plain": [
       "<Figure size 640x480 with 1 Axes>"
      ]
     },
     "metadata": {},
     "output_type": "display_data"
    }
   ],
   "source": [
    "# Eğitim Kayıpları Grafiği\n",
    "plt.plot(range(1, num_epochs + 1), training_losses, marker='o')\n",
    "plt.title(\"Eğitim Kayıpları\")\n",
    "plt.xlabel(\"Epoch\")\n",
    "plt.ylabel(\"Kayıp\")\n",
    "plt.show()"
   ]
  },
  {
   "cell_type": "code",
   "execution_count": 48,
   "metadata": {
    "execution": {
     "iopub.execute_input": "2024-11-30T18:36:01.586676Z",
     "iopub.status.busy": "2024-11-30T18:36:01.585852Z",
     "iopub.status.idle": "2024-11-30T18:36:38.938001Z",
     "shell.execute_reply": "2024-11-30T18:36:38.937033Z",
     "shell.execute_reply.started": "2024-11-30T18:36:01.586617Z"
    },
    "trusted": true
   },
   "outputs": [],
   "source": [
    "# Model Değerlendirme\n",
    "model.eval()\n",
    "true_labels = []\n",
    "pred_labels = []\n",
    "with torch.no_grad():\n",
    "    for inputs, labels in train_loader:\n",
    "        inputs, labels = inputs.to(device), labels.to(device)\n",
    "        outputs = model(inputs)\n",
    "        _, predicted = torch.max(outputs, 1)\n",
    "        true_labels.extend(labels.cpu().numpy())\n",
    "        pred_labels.extend(predicted.cpu().numpy())"
   ]
  },
  {
   "cell_type": "code",
   "execution_count": 49,
   "metadata": {
    "execution": {
     "iopub.execute_input": "2024-11-30T18:36:38.939871Z",
     "iopub.status.busy": "2024-11-30T18:36:38.939397Z",
     "iopub.status.idle": "2024-11-30T18:36:39.556301Z",
     "shell.execute_reply": "2024-11-30T18:36:39.555219Z",
     "shell.execute_reply.started": "2024-11-30T18:36:38.939824Z"
    },
    "trusted": true
   },
   "outputs": [
    {
     "data": {
      "image/png": "[encoded data removed]",
      "text/plain": [
       "<Figure size 640x480 with 2 Axes>"
      ]
     },
     "metadata": {},
     "output_type": "display_data"
    },
    {
     "name": "stdout",
     "output_type": "stream",
     "text": [
      "Sınıflandırma Raporu:\n",
      "              precision    recall  f1-score   support\n",
      "\n",
      "           0       1.00      1.00      1.00      4132\n",
      "           1       0.99      1.00      1.00      4684\n",
      "           2       0.99      0.99      0.99      4177\n",
      "           3       1.00      0.98      0.99      4351\n",
      "           4       0.99      0.99      0.99      4072\n",
      "           5       0.99      0.98      0.99      3795\n",
      "           6       1.00      0.99      0.99      4137\n",
      "           7       0.98      0.99      0.99      4401\n",
      "           8       0.99      0.99      0.99      4063\n",
      "           9       0.98      0.99      0.98      4188\n",
      "\n",
      "    accuracy                           0.99     42000\n",
      "   macro avg       0.99      0.99      0.99     42000\n",
      "weighted avg       0.99      0.99      0.99     42000\n",
      "\n"
     ]
    }
   ],
   "source": [
    "# Karışıklık Matrisi ve Sınıflandırma Raporu\n",
    "cm = confusion_matrix(true_labels, pred_labels)\n",
    "sns.heatmap(cm, annot=True, fmt=\"d\", cmap=\"Blues\")\n",
    "plt.title(\"Karışıklık Matrisi\")\n",
    "plt.xlabel(\"Tahmin Edilen\")\n",
    "plt.ylabel(\"Gerçek\")\n",
    "plt.show()\n",
    "\n",
    "print(\"Sınıflandırma Raporu:\")\n",
    "print(classification_report(true_labels, pred_labels))"
   ]
  },
  {
   "cell_type": "code",
   "execution_count": null,
   "metadata": {
    "execution": {
     "iopub.execute_input": "2024-11-30T18:36:39.558227Z",
     "iopub.status.busy": "2024-11-30T18:36:39.557936Z",
     "iopub.status.idle": "2024-11-30T18:37:02.755809Z",
     "shell.execute_reply": "2024-11-30T18:37:02.754650Z",
     "shell.execute_reply.started": "2024-11-30T18:36:39.558200Z"
    },
    "trusted": true
   },
   "outputs": [],
   "source": [
    "test_predictions = []\n",
    "model.eval()  # Modeli değerlendirme moduna al\n",
    "\n",
    "with torch.no_grad():  # Gradient hesaplama devre dışı\n",
    "    for images, _ in test_loader:  # Test loader'dan yalnızca görüntüler geliyor\n",
    "        images = images.to(device)  # Görüntüleri cihaza aktar\n",
    "        outputs = model(images)  # Modelden tahmin al\n",
    "        _, predicted = torch.max(outputs, 1)  # En yüksek olasılığı seç\n",
    "        test_predictions.extend(predicted.cpu().tolist())  # CPU'ya aktar ve listeye ekle\n",
    "\n",
    "# Tahminleri bir DataFrame'e kaydet\n",
    "submission = pd.DataFrame({\n",
    "    \"ImageId\": range(1, len(test_predictions) + 1),\n",
    "    \"Label\": test_predictions\n",
    "})\n",
    "submission.to_csv('sonuç.csv', index=False)\n",
    "print(\"Sonuçlar sonuç.csv dosyasına kaydedildi.\")\n"
   ]
  }
 ],
 "metadata": {
  "kaggle": {
   "accelerator": "none",
   "dataSources": [
    {
     "databundleVersionId": 861823,
     "sourceId": 3004,
     "sourceType": "competition"
    }
   ],
   "dockerImageVersionId": 30786,
   "isGpuEnabled": false,
   "isInternetEnabled": false,
   "language": "python",
   "sourceType": "notebook"
  },
  "kernelspec": {
   "display_name": "Python 3",
   "language": "python",
   "name": "python3"
  },
  "language_info": {
   "codemirror_mode": {
    "name": "ipython",
    "version": 3
   },
   "file_extension": ".py",
   "mimetype": "text/x-python",
   "name": "python",
   "nbconvert_exporter": "python",
   "pygments_lexer": "ipython3",
   "version": "3.10.14"
  }
 },
 "nbformat": 4,
 "nbformat_minor": 4
}
